{
 "cells": [
  {
   "cell_type": "code",
   "execution_count": 36,
   "metadata": {},
   "outputs": [
    {
     "name": "stdout",
     "output_type": "stream",
     "text": [
      "['/Users/bernardo/Bernardo_Local/backup/20230208/20230208_181617_front_Ud', '/Users/bernardo/Bernardo_Local/backup/20230208/20220206_175525_bottom', '/Users/bernardo/Bernardo_Local/backup/20230208/20220206_180658_bottom', '/Users/bernardo/Bernardo_Local/backup/20230208/20230208_170702_front_Ud', '/Users/bernardo/Bernardo_Local/backup/20230208/20230208_174126_front_Ud', '/Users/bernardo/Bernardo_Local/backup/20230208/20220206_170702_bottom_BG', '/Users/bernardo/Bernardo_Local/backup/20230208/20220206_181156_bottom', '/Users/bernardo/Bernardo_Local/backup/20230208/20220206_175525_bottom_BG', '/Users/bernardo/Bernardo_Local/backup/20230208/20220206_180216_bottom', '/Users/bernardo/Bernardo_Local/backup/20230208/20230208_180216_front_Ud', '/Users/bernardo/Bernardo_Local/backup/20230208/20220206_181617_bottom', '/Users/bernardo/Bernardo_Local/backup/20230208/20230208_170702_front', '/Users/bernardo/Bernardo_Local/backup/20230208/20230208_front_scale', '/Users/bernardo/Bernardo_Local/backup/20230208/20220206_174126_bottom', '/Users/bernardo/Bernardo_Local/backup/20230208/20220206_174813_bottom', '/Users/bernardo/Bernardo_Local/backup/20230208/20230208_174126_front', '/Users/bernardo/Bernardo_Local/backup/20230208/20220206_172214_bottom_BG', '/Users/bernardo/Bernardo_Local/backup/20230208/20220206_181617_bottom_BG', '/Users/bernardo/Bernardo_Local/backup/20230208/20220206_bottom_scale', '/Users/bernardo/Bernardo_Local/backup/20230208/20220206_174813_bottom_BG', '/Users/bernardo/Bernardo_Local/backup/20230208/20230208_181617_front', '/Users/bernardo/Bernardo_Local/backup/20230208/20220206_172950_bottom', '/Users/bernardo/Bernardo_Local/backup/20230208/20220206_181156_bottom_BG', '/Users/bernardo/Bernardo_Local/backup/20230208/20220206_174126_bottom_BG', '/Users/bernardo/Bernardo_Local/backup/20230208/20220206_180658_bottom_BG', '/Users/bernardo/Bernardo_Local/backup/20230208/20230208_172950_front_Ud', '/Users/bernardo/Bernardo_Local/backup/20230208/20230208_174813_front_Ud', '/Users/bernardo/Bernardo_Local/backup/20230208/20230208_175525_front_Ud', '/Users/bernardo/Bernardo_Local/backup/20230208/20230208_174813_front', '/Users/bernardo/Bernardo_Local/backup/20230208/20230208_182119_front', '/Users/bernardo/Bernardo_Local/backup/20230208/20220206_172950_bottom_BG', '/Users/bernardo/Bernardo_Local/backup/20230208/20220206_182119_bottom', '/Users/bernardo/Bernardo_Local/backup/20230208/20220206_180216_bottom_BG', '/Users/bernardo/Bernardo_Local/backup/20230208/20220206_182119_bottom_BG', '/Users/bernardo/Bernardo_Local/backup/20230208/20230208_180658_front', '/Users/bernardo/Bernardo_Local/backup/20230208/20230208_175525_front', '/Users/bernardo/Bernardo_Local/backup/20230208/20230208_172214_front_Ud', '/Users/bernardo/Bernardo_Local/backup/20230208/20220206_172214_bottom', '/Users/bernardo/Bernardo_Local/backup/20230208/20230208_172214_front', '/Users/bernardo/Bernardo_Local/backup/20230208/20230208_182119_front_Ud', '/Users/bernardo/Bernardo_Local/backup/20230208/20230208_181156_front', '/Users/bernardo/Bernardo_Local/backup/20230208/20220206_182553_bottom_BG', '/Users/bernardo/Bernardo_Local/backup/20230208/20230208_182553_front', '/Users/bernardo/Bernardo_Local/backup/20230208/20230208_180658_front_Ud', '/Users/bernardo/Bernardo_Local/backup/20230208/20230208_181156_front_Ud', '/Users/bernardo/Bernardo_Local/backup/20230208/20230208_182553_front_Ud', '/Users/bernardo/Bernardo_Local/backup/20230208/20230208_172950_front', '/Users/bernardo/Bernardo_Local/backup/20230208/20230208_180216_front', '/Users/bernardo/Bernardo_Local/backup/20230208/20220206_170702_bottom', '/Users/bernardo/Bernardo_Local/backup/20230208/20220206_182553_bottom']\n",
      "['/Users/bernardo/Bernardo_Local/backup/20230208/20230208_181617_front_Ud/20220206_181617_front_Ud_12800fps.tif', '/Users/bernardo/Bernardo_Local/backup/20230208/20230208_181617_front_Ud/20220206_181617_front_Ud_12800fps.cihx', '/Users/bernardo/Bernardo_Local/backup/20230208/20220206_175525_bottom/20220206_175525_bottom_12800fps.tif', '/Users/bernardo/Bernardo_Local/backup/20230208/20220206_175525_bottom/20220206_175525_bottom_12800fps.cihx', '/Users/bernardo/Bernardo_Local/backup/20230208/20220206_180658_bottom/20220206_180658_bottom_12800fps.tif', '/Users/bernardo/Bernardo_Local/backup/20230208/20220206_180658_bottom/20220206_180658_bottom_12800fps.cihx', '/Users/bernardo/Bernardo_Local/backup/20230208/20230208_170702_front_Ud/20220206_170702_front_Ud_12800fps.tif', '/Users/bernardo/Bernardo_Local/backup/20230208/20230208_170702_front_Ud/20220206_170702_front_Ud_12800fps.cihx', '/Users/bernardo/Bernardo_Local/backup/20230208/20230208_174126_front_Ud/20220206_174126_front_Ud_12800fps.cihx', '/Users/bernardo/Bernardo_Local/backup/20230208/20230208_174126_front_Ud/20220206_174126_front_Ud_12800fps.tif', '/Users/bernardo/Bernardo_Local/backup/20230208/20220206_170702_bottom_BG/20220206_170702_bottom_BG_12800fps.cihx', '/Users/bernardo/Bernardo_Local/backup/20230208/20220206_170702_bottom_BG/20220206_170702_bottom_BG_12800fps.tif', '/Users/bernardo/Bernardo_Local/backup/20230208/20220206_181156_bottom/20220206_181156_bottom_12800fps.cihx', '/Users/bernardo/Bernardo_Local/backup/20230208/20220206_181156_bottom/20220206_181156_bottom_12800fps.tif', '/Users/bernardo/Bernardo_Local/backup/20230208/20220206_175525_bottom_BG/20220206_175525_bottom_BG_12800fps.cihx', '/Users/bernardo/Bernardo_Local/backup/20230208/20220206_175525_bottom_BG/20220206_175525_bottom_BG_12800fps.tif', '/Users/bernardo/Bernardo_Local/backup/20230208/20220206_180216_bottom/20220206_180216_bottom_12800fps.tif', '/Users/bernardo/Bernardo_Local/backup/20230208/20220206_180216_bottom/20220206_180216_bottom_12800fps.cihx', '/Users/bernardo/Bernardo_Local/backup/20230208/20230208_180216_front_Ud/20220206_180216_front_Ud_12800fps.cihx', '/Users/bernardo/Bernardo_Local/backup/20230208/20230208_180216_front_Ud/20220206_180216_front_Ud_12800fps.tif', '/Users/bernardo/Bernardo_Local/backup/20230208/20220206_181617_bottom/20220206_181617_bottom_12800fps.tif', '/Users/bernardo/Bernardo_Local/backup/20230208/20220206_181617_bottom/20220206_181617_bottom_12800fps.cihx', '/Users/bernardo/Bernardo_Local/backup/20230208/20230208_170702_front/20230208_170702_front_12800fps.cihx', '/Users/bernardo/Bernardo_Local/backup/20230208/20230208_170702_front/20230208_170702_front_12800fps.tif', '/Users/bernardo/Bernardo_Local/backup/20230208/20230208_front_scale/20220206_front_scale_12800fps.cihx', '/Users/bernardo/Bernardo_Local/backup/20230208/20230208_front_scale/20220206_front_scale_12800fps.tif', '/Users/bernardo/Bernardo_Local/backup/20230208/20220206_174126_bottom/20220206_174126_bottom_12800fps.tif', '/Users/bernardo/Bernardo_Local/backup/20230208/20220206_174126_bottom/20220206_174126_bottom_12800fps.cihx', '/Users/bernardo/Bernardo_Local/backup/20230208/20220206_174813_bottom/20220206_174813_bottom_12800fps.cihx', '/Users/bernardo/Bernardo_Local/backup/20230208/20220206_174813_bottom/20220206_174813_bottom_12800fps.tif', '/Users/bernardo/Bernardo_Local/backup/20230208/20230208_174126_front/20220206_174126_front_12800fps.tif', '/Users/bernardo/Bernardo_Local/backup/20230208/20230208_174126_front/20220206_174126_front_12800fps.cihx', '/Users/bernardo/Bernardo_Local/backup/20230208/20220206_172214_bottom_BG/20220206_172214_bottom_BG_12800fps.tif', '/Users/bernardo/Bernardo_Local/backup/20230208/20220206_172214_bottom_BG/20220206_172214_bottom_BG_12800fps.cihx', '/Users/bernardo/Bernardo_Local/backup/20230208/20220206_181617_bottom_BG/20220206_181617_bottom_BG_12800fps.tif', '/Users/bernardo/Bernardo_Local/backup/20230208/20220206_181617_bottom_BG/20220206_181617_bottom_BG_12800fps.cihx', '/Users/bernardo/Bernardo_Local/backup/20230208/20220206_bottom_scale/20220206_bottom_scale_12800fps.tif', '/Users/bernardo/Bernardo_Local/backup/20230208/20220206_bottom_scale/20220206_bottom_scale_12800fps.cihx', '/Users/bernardo/Bernardo_Local/backup/20230208/20220206_174813_bottom_BG/20220206_174813_bottom_BG_12800fps.tif', '/Users/bernardo/Bernardo_Local/backup/20230208/20220206_174813_bottom_BG/20220206_174813_bottom_BG_12800fps.cihx', '/Users/bernardo/Bernardo_Local/backup/20230208/20230208_181617_front/20220206_181617_front_12800fps.tif', '/Users/bernardo/Bernardo_Local/backup/20230208/20230208_181617_front/20220206_181617_front_12800fps.cihx', '/Users/bernardo/Bernardo_Local/backup/20230208/20220206_172950_bottom/20220206_172950_bottom_12800fps.cihx', '/Users/bernardo/Bernardo_Local/backup/20230208/20220206_172950_bottom/20220206_172950_bottom_12800fps.tif', '/Users/bernardo/Bernardo_Local/backup/20230208/20220206_181156_bottom_BG/20220206_181156_bottom_BG_12800fps.cihx', '/Users/bernardo/Bernardo_Local/backup/20230208/20220206_181156_bottom_BG/20220206_181156_bottom_BG_12800fps.tif', '/Users/bernardo/Bernardo_Local/backup/20230208/20220206_174126_bottom_BG/20220206_174126_bottom_BG_12800fps.tif', '/Users/bernardo/Bernardo_Local/backup/20230208/20220206_174126_bottom_BG/20220206_174126_bottom_BG_12800fps.cihx', '/Users/bernardo/Bernardo_Local/backup/20230208/20220206_180658_bottom_BG/20220206_180658_bottom_BG_12800fps.cihx', '/Users/bernardo/Bernardo_Local/backup/20230208/20220206_180658_bottom_BG/20220206_180658_bottom_BG_12800fps.tif', '/Users/bernardo/Bernardo_Local/backup/20230208/20230208_172950_front_Ud/20220206_172950_front_Ud_12800fps.tif', '/Users/bernardo/Bernardo_Local/backup/20230208/20230208_172950_front_Ud/20220206_172950_front_Ud_12800fps.cihx', '/Users/bernardo/Bernardo_Local/backup/20230208/20230208_174813_front_Ud/20220206_174813_front_Ud_12800fps.cihx', '/Users/bernardo/Bernardo_Local/backup/20230208/20230208_174813_front_Ud/20220206_174813_front_Ud_12800fps.tif', '/Users/bernardo/Bernardo_Local/backup/20230208/20230208_175525_front_Ud/20220206_175525_front_Ud_12800fps.tif', '/Users/bernardo/Bernardo_Local/backup/20230208/20230208_175525_front_Ud/20220206_175525_front_Ud_12800fps.cihx', '/Users/bernardo/Bernardo_Local/backup/20230208/20230208_174813_front/20220206_174813_front_12800fps.tif', '/Users/bernardo/Bernardo_Local/backup/20230208/20230208_174813_front/20220206_174813_front_12800fps.cihx', '/Users/bernardo/Bernardo_Local/backup/20230208/20230208_182119_front/20220206_182119_front_12800fps.cihx', '/Users/bernardo/Bernardo_Local/backup/20230208/20230208_182119_front/20220206_182119_front_12800fps.tif', '/Users/bernardo/Bernardo_Local/backup/20230208/20220206_172950_bottom_BG/20220206_172950_bottom_BG_12800fps.cihx', '/Users/bernardo/Bernardo_Local/backup/20230208/20220206_172950_bottom_BG/20220206_172950_bottom_BG_12800fps.tif', '/Users/bernardo/Bernardo_Local/backup/20230208/20220206_182119_bottom/20220206_182119_bottom_12800fps.cihx', '/Users/bernardo/Bernardo_Local/backup/20230208/20220206_182119_bottom/20220206_182119_bottom_12800fps.tif', '/Users/bernardo/Bernardo_Local/backup/20230208/20220206_180216_bottom_BG/20220206_180216_bottom_BG_12800fps.cihx', '/Users/bernardo/Bernardo_Local/backup/20230208/20220206_180216_bottom_BG/20220206_180216_bottom_BG_12800fps.tif', '/Users/bernardo/Bernardo_Local/backup/20230208/20220206_182119_bottom_BG/20220206_182119_bottom_BG_12800fps.tif', '/Users/bernardo/Bernardo_Local/backup/20230208/20220206_182119_bottom_BG/20220206_182119_bottom_BG_12800fps.cihx', '/Users/bernardo/Bernardo_Local/backup/20230208/20230208_180658_front/20220206_180658_front_12800fps.cihx', '/Users/bernardo/Bernardo_Local/backup/20230208/20230208_180658_front/20220206_180658_front_12800fps.tif', '/Users/bernardo/Bernardo_Local/backup/20230208/20230208_175525_front/20220206_175525_front_12800fps.tif', '/Users/bernardo/Bernardo_Local/backup/20230208/20230208_175525_front/20220206_175525_front_12800fps.cihx', '/Users/bernardo/Bernardo_Local/backup/20230208/20230208_172214_front_Ud/20220206_172214_front_Ud_12800fps.tif', '/Users/bernardo/Bernardo_Local/backup/20230208/20230208_172214_front_Ud/20220206_172214_front_Ud_12800fps.cihx', '/Users/bernardo/Bernardo_Local/backup/20230208/20220206_172214_bottom/20220206_172214_bottom_12800fps.tif', '/Users/bernardo/Bernardo_Local/backup/20230208/20220206_172214_bottom/20220206_172214_bottom_12800fps.cihx', '/Users/bernardo/Bernardo_Local/backup/20230208/20230208_172214_front/20220206_172214_front_12800fps.tif', '/Users/bernardo/Bernardo_Local/backup/20230208/20230208_172214_front/20220206_172214_front_12800fps.cihx', '/Users/bernardo/Bernardo_Local/backup/20230208/20230208_182119_front_Ud/20220206_182119_front_Ud_12800fps.cihx', '/Users/bernardo/Bernardo_Local/backup/20230208/20230208_182119_front_Ud/20220206_182119_front_Ud_12800fps.tif', '/Users/bernardo/Bernardo_Local/backup/20230208/20230208_181156_front/20220206_181156_front_12800fps.cihx', '/Users/bernardo/Bernardo_Local/backup/20230208/20230208_181156_front/20220206_181156_front_12800fps.tif', '/Users/bernardo/Bernardo_Local/backup/20230208/20220206_182553_bottom_BG/20220206_182553_bottom_BG_12800fps.tif', '/Users/bernardo/Bernardo_Local/backup/20230208/20220206_182553_bottom_BG/20220206_182553_bottom_BG_12800fps.cihx', '/Users/bernardo/Bernardo_Local/backup/20230208/20230208_182553_front/20220206_182553_front_12800fps.cihx', '/Users/bernardo/Bernardo_Local/backup/20230208/20230208_182553_front/20220206_182553_front_12800fps.tif', '/Users/bernardo/Bernardo_Local/backup/20230208/20230208_180658_front_Ud/20220206_180658_front_Ud_12800fps.cihx', '/Users/bernardo/Bernardo_Local/backup/20230208/20230208_180658_front_Ud/20220206_180658_front_Ud_12800fps.tif', '/Users/bernardo/Bernardo_Local/backup/20230208/20230208_181156_front_Ud/20220206_181156_front_Ud_12800fps.cihx', '/Users/bernardo/Bernardo_Local/backup/20230208/20230208_181156_front_Ud/20220206_181156_front_Ud_12800fps.tif', '/Users/bernardo/Bernardo_Local/backup/20230208/20230208_182553_front_Ud/20220206_182553_front_Ud_12800fps.cihx', '/Users/bernardo/Bernardo_Local/backup/20230208/20230208_182553_front_Ud/20220206_182553_front_Ud_12800fps.tif', '/Users/bernardo/Bernardo_Local/backup/20230208/20230208_172950_front/20220206_172950_front_12800fps.cihx', '/Users/bernardo/Bernardo_Local/backup/20230208/20230208_172950_front/20220206_172950_front_12800fps.tif', '/Users/bernardo/Bernardo_Local/backup/20230208/20230208_180216_front/20220206_180216_front_12800fps.tif', '/Users/bernardo/Bernardo_Local/backup/20230208/20230208_180216_front/20220206_180216_front_12800fps.cihx', '/Users/bernardo/Bernardo_Local/backup/20230208/20220206_170702_bottom/20220206_170702_bottom_12800fps.cihx', '/Users/bernardo/Bernardo_Local/backup/20230208/20220206_170702_bottom/20220206_170702_bottom_12800fps.tif', '/Users/bernardo/Bernardo_Local/backup/20230208/20220206_182553_bottom/20220206_182553_bottom_12800fps.cihx', '/Users/bernardo/Bernardo_Local/backup/20230208/20220206_182553_bottom/20220206_182553_bottom_12800fps.tif']\n"
     ]
    }
   ],
   "source": [
    "import glob\n",
    "import os\n",
    "pathfolders='/Users/bernardo/Bernardo_Local/backup/20230208/*'\n",
    "pathfiles='/Users/bernardo/Bernardo_Local/backup/20230208/**/*'\n",
    "folders=(glob.glob(pathfolders))\n",
    "files=glob.glob(pathfiles)\n",
    "print(folders)\n",
    "print(files)\n",
    "\n"
   ]
  },
  {
   "cell_type": "code",
   "execution_count": 37,
   "metadata": {},
   "outputs": [
    {
     "data": {
      "text/plain": [
       "['/Users/bernardo/Bernardo_Local/backup/20230208/20230208_181617_front_Ud/20230208_181617_front_Ud_12800fps.cihx',\n",
       " '/Users/bernardo/Bernardo_Local/backup/20230208/20230208_181617_front_Ud/20230208_181617_front_Ud_12800fps.tif',\n",
       " '/Users/bernardo/Bernardo_Local/backup/20230208/20230208_170702_front_Ud/20230208_170702_front_Ud_12800fps.cihx',\n",
       " '/Users/bernardo/Bernardo_Local/backup/20230208/20230208_170702_front_Ud/20230208_170702_front_Ud_12800fps.tif',\n",
       " '/Users/bernardo/Bernardo_Local/backup/20230208/20230208_174126_front_Ud/20230208_174126_front_Ud_12800fps.tif',\n",
       " '/Users/bernardo/Bernardo_Local/backup/20230208/20230208_174126_front_Ud/20230208_174126_front_Ud_12800fps.cihx',\n",
       " '/Users/bernardo/Bernardo_Local/backup/20230208/20230208_172950_bottom/20230208_172950_bottom_12800fps.tif',\n",
       " '/Users/bernardo/Bernardo_Local/backup/20230208/20230208_172950_bottom/20230208_172950_bottom_12800fps.cihx',\n",
       " '/Users/bernardo/Bernardo_Local/backup/20230208/20230208_175525_bottom_BG/20230208_175525_bottom_BG_12800fps.cihx',\n",
       " '/Users/bernardo/Bernardo_Local/backup/20230208/20230208_175525_bottom_BG/20230208_175525_bottom_BG_12800fps.tif',\n",
       " '/Users/bernardo/Bernardo_Local/backup/20230208/20230208_180216_front_Ud/20230208_180216_front_Ud_12800fps.cihx',\n",
       " '/Users/bernardo/Bernardo_Local/backup/20230208/20230208_180216_front_Ud/20230208_180216_front_Ud_12800fps.tif',\n",
       " '/Users/bernardo/Bernardo_Local/backup/20230208/20230208_170702_bottom_BG/20230208_170702_bottom_BG_12800fps.cihx',\n",
       " '/Users/bernardo/Bernardo_Local/backup/20230208/20230208_170702_bottom_BG/20230208_170702_bottom_BG_12800fps.tif',\n",
       " '/Users/bernardo/Bernardo_Local/backup/20230208/20230208_170702_front/20230208_170702_front_12800fps.cihx',\n",
       " '/Users/bernardo/Bernardo_Local/backup/20230208/20230208_170702_front/20230208_170702_front_12800fps.tif',\n",
       " '/Users/bernardo/Bernardo_Local/backup/20230208/20230208_front_scale/20230208_front_scale_12800fps.tif',\n",
       " '/Users/bernardo/Bernardo_Local/backup/20230208/20230208_front_scale/20230208_front_scale_12800fps.cihx',\n",
       " '/Users/bernardo/Bernardo_Local/backup/20230208/20230208_174126_front/20230208_174126_front_12800fps.cihx',\n",
       " '/Users/bernardo/Bernardo_Local/backup/20230208/20230208_174126_front/20230208_174126_front_12800fps.tif',\n",
       " '/Users/bernardo/Bernardo_Local/backup/20230208/20230208_174126_bottom_BG/20230208_174126_bottom_BG_12800fps.tif',\n",
       " '/Users/bernardo/Bernardo_Local/backup/20230208/20230208_174126_bottom_BG/20230208_174126_bottom_BG_12800fps.cihx',\n",
       " '/Users/bernardo/Bernardo_Local/backup/20230208/20230208_180658_bottom_BG/20230208_180658_bottom_BG_12800fps.cihx',\n",
       " '/Users/bernardo/Bernardo_Local/backup/20230208/20230208_180658_bottom_BG/20230208_180658_bottom_BG_12800fps.tif',\n",
       " '/Users/bernardo/Bernardo_Local/backup/20230208/20230208_181156_bottom_BG/20230208_181156_bottom_BG_12800fps.cihx',\n",
       " '/Users/bernardo/Bernardo_Local/backup/20230208/20230208_181156_bottom_BG/20230208_181156_bottom_BG_12800fps.tif',\n",
       " '/Users/bernardo/Bernardo_Local/backup/20230208/20230208_181156_bottom/20230208_181156_bottom_12800fps.tif',\n",
       " '/Users/bernardo/Bernardo_Local/backup/20230208/20230208_181156_bottom/20230208_181156_bottom_12800fps.cihx',\n",
       " '/Users/bernardo/Bernardo_Local/backup/20230208/20230208_175525_bottom/20230208_175525_bottom_12800fps.cihx',\n",
       " '/Users/bernardo/Bernardo_Local/backup/20230208/20230208_175525_bottom/20230208_175525_bottom_12800fps.tif',\n",
       " '/Users/bernardo/Bernardo_Local/backup/20230208/20230208_180658_bottom/20230208_180658_bottom_12800fps.cihx',\n",
       " '/Users/bernardo/Bernardo_Local/backup/20230208/20230208_180658_bottom/20230208_180658_bottom_12800fps.tif',\n",
       " '/Users/bernardo/Bernardo_Local/backup/20230208/20230208_174813_bottom_BG/20230208_174813_bottom_BG_12800fps.cihx',\n",
       " '/Users/bernardo/Bernardo_Local/backup/20230208/20230208_174813_bottom_BG/20230208_174813_bottom_BG_12800fps.tif',\n",
       " '/Users/bernardo/Bernardo_Local/backup/20230208/20230208_181617_bottom_BG/20230208_181617_bottom_BG_12800fps.cihx',\n",
       " '/Users/bernardo/Bernardo_Local/backup/20230208/20230208_181617_bottom_BG/20230208_181617_bottom_BG_12800fps.tif',\n",
       " '/Users/bernardo/Bernardo_Local/backup/20230208/20230208_174126_bottom/20230208_174126_bottom_12800fps.cihx',\n",
       " '/Users/bernardo/Bernardo_Local/backup/20230208/20230208_174126_bottom/20230208_174126_bottom_12800fps.tif',\n",
       " '/Users/bernardo/Bernardo_Local/backup/20230208/20230208_181617_front/20230208_181617_front_12800fps.tif',\n",
       " '/Users/bernardo/Bernardo_Local/backup/20230208/20230208_181617_front/20230208_181617_front_12800fps.cihx',\n",
       " '/Users/bernardo/Bernardo_Local/backup/20230208/20230208_174813_bottom/20230208_174813_bottom_12800fps.cihx',\n",
       " '/Users/bernardo/Bernardo_Local/backup/20230208/20230208_174813_bottom/20230208_174813_bottom_12800fps.tif',\n",
       " '/Users/bernardo/Bernardo_Local/backup/20230208/20230208_172214_bottom_BG/20230208_172214_bottom_BG_12800fps.tif',\n",
       " '/Users/bernardo/Bernardo_Local/backup/20230208/20230208_172214_bottom_BG/20230208_172214_bottom_BG_12800fps.cihx',\n",
       " '/Users/bernardo/Bernardo_Local/backup/20230208/20230208_180216_bottom/20230208_180216_bottom_12800fps.cihx',\n",
       " '/Users/bernardo/Bernardo_Local/backup/20230208/20230208_180216_bottom/20230208_180216_bottom_12800fps.tif',\n",
       " '/Users/bernardo/Bernardo_Local/backup/20230208/20230208_172950_front_Ud/20230208_172950_front_Ud_12800fps.cihx',\n",
       " '/Users/bernardo/Bernardo_Local/backup/20230208/20230208_172950_front_Ud/20230208_172950_front_Ud_12800fps.tif',\n",
       " '/Users/bernardo/Bernardo_Local/backup/20230208/20230208_181617_bottom/20230208_181617_bottom_12800fps.cihx',\n",
       " '/Users/bernardo/Bernardo_Local/backup/20230208/20230208_181617_bottom/20230208_181617_bottom_12800fps.tif',\n",
       " '/Users/bernardo/Bernardo_Local/backup/20230208/20230208_182119_bottom_BG/20230208_182119_bottom_BG_12800fps.cihx',\n",
       " '/Users/bernardo/Bernardo_Local/backup/20230208/20230208_182119_bottom_BG/20230208_182119_bottom_BG_12800fps.tif',\n",
       " '/Users/bernardo/Bernardo_Local/backup/20230208/20230208_174813_front_Ud/20230208_174813_front_Ud_12800fps.tif',\n",
       " '/Users/bernardo/Bernardo_Local/backup/20230208/20230208_174813_front_Ud/20230208_174813_front_Ud_12800fps.cihx',\n",
       " '/Users/bernardo/Bernardo_Local/backup/20230208/20230208_180216_bottom_BG/20230208_180216_bottom_BG_12800fps.cihx',\n",
       " '/Users/bernardo/Bernardo_Local/backup/20230208/20230208_180216_bottom_BG/20230208_180216_bottom_BG_12800fps.tif',\n",
       " '/Users/bernardo/Bernardo_Local/backup/20230208/20230208_175525_front_Ud/20230208_175525_front_Ud_12800fps.cihx',\n",
       " '/Users/bernardo/Bernardo_Local/backup/20230208/20230208_175525_front_Ud/20230208_175525_front_Ud_12800fps.tif',\n",
       " '/Users/bernardo/Bernardo_Local/backup/20230208/20230208_172214_bottom/20230208_172214_bottom_12800fps.tif',\n",
       " '/Users/bernardo/Bernardo_Local/backup/20230208/20230208_172214_bottom/20230208_172214_bottom_12800fps.cihx',\n",
       " '/Users/bernardo/Bernardo_Local/backup/20230208/20230208_174813_front/20230208_174813_front_12800fps.tif',\n",
       " '/Users/bernardo/Bernardo_Local/backup/20230208/20230208_174813_front/20230208_174813_front_12800fps.cihx',\n",
       " '/Users/bernardo/Bernardo_Local/backup/20230208/20230208_172950_bottom_BG/20230208_172950_bottom_BG_12800fps.cihx',\n",
       " '/Users/bernardo/Bernardo_Local/backup/20230208/20230208_172950_bottom_BG/20230208_172950_bottom_BG_12800fps.tif',\n",
       " '/Users/bernardo/Bernardo_Local/backup/20230208/20230208_bottom_scale/20230208_bottom_scale_12800fps.tif',\n",
       " '/Users/bernardo/Bernardo_Local/backup/20230208/20230208_bottom_scale/20230208_bottom_scale_12800fps.cihx',\n",
       " '/Users/bernardo/Bernardo_Local/backup/20230208/20230208_170702_bottom/20230208_170702_bottom_12800fps.cihx',\n",
       " '/Users/bernardo/Bernardo_Local/backup/20230208/20230208_170702_bottom/20230208_170702_bottom_12800fps.tif',\n",
       " '/Users/bernardo/Bernardo_Local/backup/20230208/20230208_182119_front/20230208_182119_front_12800fps.tif',\n",
       " '/Users/bernardo/Bernardo_Local/backup/20230208/20230208_182119_front/20230208_182119_front_12800fps.cihx',\n",
       " '/Users/bernardo/Bernardo_Local/backup/20230208/20230208_182553_bottom/20230208_182553_bottom_12800fps.tif',\n",
       " '/Users/bernardo/Bernardo_Local/backup/20230208/20230208_182553_bottom/20230208_182553_bottom_12800fps.cihx',\n",
       " '/Users/bernardo/Bernardo_Local/backup/20230208/20230208_180658_front/20230208_180658_front_12800fps.cihx',\n",
       " '/Users/bernardo/Bernardo_Local/backup/20230208/20230208_180658_front/20230208_180658_front_12800fps.tif',\n",
       " '/Users/bernardo/Bernardo_Local/backup/20230208/20230208_175525_front/20230208_175525_front_12800fps.cihx',\n",
       " '/Users/bernardo/Bernardo_Local/backup/20230208/20230208_175525_front/20230208_175525_front_12800fps.tif',\n",
       " '/Users/bernardo/Bernardo_Local/backup/20230208/20230208_172214_front_Ud/20230208_172214_front_Ud_12800fps.cihx',\n",
       " '/Users/bernardo/Bernardo_Local/backup/20230208/20230208_172214_front_Ud/20230208_172214_front_Ud_12800fps.tif',\n",
       " '/Users/bernardo/Bernardo_Local/backup/20230208/20230208_172214_front/20230208_172214_front_12800fps.cihx',\n",
       " '/Users/bernardo/Bernardo_Local/backup/20230208/20230208_172214_front/20230208_172214_front_12800fps.tif',\n",
       " '/Users/bernardo/Bernardo_Local/backup/20230208/20230208_182119_front_Ud/20230208_182119_front_Ud_12800fps.tif',\n",
       " '/Users/bernardo/Bernardo_Local/backup/20230208/20230208_182119_front_Ud/20230208_182119_front_Ud_12800fps.cihx',\n",
       " '/Users/bernardo/Bernardo_Local/backup/20230208/20230208_181156_front/20230208_181156_front_12800fps.tif',\n",
       " '/Users/bernardo/Bernardo_Local/backup/20230208/20230208_181156_front/20230208_181156_front_12800fps.cihx',\n",
       " '/Users/bernardo/Bernardo_Local/backup/20230208/20230208_182553_front/20230208_182553_front_12800fps.cihx',\n",
       " '/Users/bernardo/Bernardo_Local/backup/20230208/20230208_182553_front/20230208_182553_front_12800fps.tif',\n",
       " '/Users/bernardo/Bernardo_Local/backup/20230208/20230208_180658_front_Ud/20230208_180658_front_Ud_12800fps.cihx',\n",
       " '/Users/bernardo/Bernardo_Local/backup/20230208/20230208_180658_front_Ud/20230208_180658_front_Ud_12800fps.tif',\n",
       " '/Users/bernardo/Bernardo_Local/backup/20230208/20230208_181156_front_Ud/20230208_181156_front_Ud_12800fps.tif',\n",
       " '/Users/bernardo/Bernardo_Local/backup/20230208/20230208_181156_front_Ud/20230208_181156_front_Ud_12800fps.cihx',\n",
       " '/Users/bernardo/Bernardo_Local/backup/20230208/20230208_182553_front_Ud/20230208_182553_front_Ud_12800fps.tif',\n",
       " '/Users/bernardo/Bernardo_Local/backup/20230208/20230208_182553_front_Ud/20230208_182553_front_Ud_12800fps.cihx',\n",
       " '/Users/bernardo/Bernardo_Local/backup/20230208/20230208_182119_bottom/20230208_182119_bottom_12800fps.tif',\n",
       " '/Users/bernardo/Bernardo_Local/backup/20230208/20230208_182119_bottom/20230208_182119_bottom_12800fps.cihx',\n",
       " '/Users/bernardo/Bernardo_Local/backup/20230208/20230208_182553_bottom_BG/20230208_182553_bottom_BG_12800fps.cihx',\n",
       " '/Users/bernardo/Bernardo_Local/backup/20230208/20230208_182553_bottom_BG/20230208_182553_bottom_BG_12800fps.tif',\n",
       " '/Users/bernardo/Bernardo_Local/backup/20230208/20230208_172950_front/20230208_172950_front_12800fps.tif',\n",
       " '/Users/bernardo/Bernardo_Local/backup/20230208/20230208_172950_front/20230208_172950_front_12800fps.cihx',\n",
       " '/Users/bernardo/Bernardo_Local/backup/20230208/20230208_180216_front/20230208_180216_front_12800fps.tif',\n",
       " '/Users/bernardo/Bernardo_Local/backup/20230208/20230208_180216_front/20230208_180216_front_12800fps.cihx']"
      ]
     },
     "execution_count": 37,
     "metadata": {},
     "output_type": "execute_result"
    }
   ],
   "source": [
    "\n",
    "\n",
    "\n",
    "for x in files:\n",
    "    y=x.replace('20220206','20230208')\n",
    "    os.renames(x,y)\n",
    "glob.glob(pathfiles)"
   ]
  },
  {
   "cell_type": "code",
   "execution_count": null,
   "metadata": {},
   "outputs": [],
   "source": []
  }
 ],
 "metadata": {
  "kernelspec": {
   "display_name": "base",
   "language": "python",
   "name": "python3"
  },
  "language_info": {
   "codemirror_mode": {
    "name": "ipython",
    "version": 3
   },
   "file_extension": ".py",
   "mimetype": "text/x-python",
   "name": "python",
   "nbconvert_exporter": "python",
   "pygments_lexer": "ipython3",
   "version": "3.8.13"
  },
  "orig_nbformat": 4,
  "vscode": {
   "interpreter": {
    "hash": "9a620bbcd11f8dd2b2f04c2361d11fe5e64eaf28588332ed118e586be259461d"
   }
  }
 },
 "nbformat": 4,
 "nbformat_minor": 2
}
